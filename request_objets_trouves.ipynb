{
 "cells": [
  {
   "cell_type": "code",
   "execution_count": 26,
   "metadata": {},
   "outputs": [],
   "source": [
    "import requests\n",
    "import pandas as pd\n"
   ]
  },
  {
   "cell_type": "code",
   "execution_count": 27,
   "metadata": {},
   "outputs": [],
   "source": [
    "\n",
    "\n",
    "def get_lost_objects(gares, annees):\n",
    "    results = []\n",
    "    for gare in gares:\n",
    "        for annee in annees:\n",
    "            response = requests.get(f'https://a67b4b4d-cb00-45aa-9970-2c69b46cea8a@ressources.data.sncf.com/api/records/1.0/search/?dataset=objets-trouves-restitution&lang=fr&rows=10000&sort=date&facet=date&facet=gc_obo_gare_origine_r_name&facet=gc_obo_type_c&refine.date={annee}&refine.gc_obo_gare_origine_r_name={gare}')\n",
    "            results.append(response.json()[\"records\"])\n",
    "    return results\n",
    "\n"
   ]
  },
  {
   "cell_type": "code",
   "execution_count": 28,
   "metadata": {},
   "outputs": [],
   "source": [
    "db_gares = pd.read_csv(\"ressources/gares.csv\")\n",
    "\n",
    "gares = [name.replace(\"'\",\"%27\") for name in db_gares.Gare]\n",
    "annees = [annee for annee in range(2019,2020)]\n",
    "\n",
    "lost_objects_list = get_lost_objects(gares, annees)"
   ]
  },
  {
   "cell_type": "code",
   "execution_count": 29,
   "metadata": {},
   "outputs": [
    {
     "data": {
      "text/plain": [
       "['Paris Gare du Nord',\n",
       " 'Paris Est',\n",
       " 'Paris Gare de Lyon',\n",
       " 'Paris Montparnasse',\n",
       " 'Paris Saint-Lazare',\n",
       " 'Paris Austerlitz',\n",
       " 'Paris Bercy']"
      ]
     },
     "execution_count": 29,
     "metadata": {},
     "output_type": "execute_result"
    }
   ],
   "source": [
    "gares"
   ]
  },
  {
   "cell_type": "code",
   "execution_count": 34,
   "metadata": {},
   "outputs": [
    {
     "data": {
      "text/plain": [
       "{'datasetid': 'objets-trouves-restitution',\n",
       " 'recordid': '9d14fba406ba8c26aa6346bc8265803a29269eac',\n",
       " 'fields': {'gc_obo_gare_origine_r_code_uic_c': '0087271007',\n",
       "  'gc_obo_type_c': 'Vêtements, chaussures',\n",
       "  'gc_obo_gare_origine_r_name': 'Paris Gare du Nord',\n",
       "  'gc_obo_nature_c': 'Manteau, veste, blazer, parka, blouson, cape',\n",
       "  'gc_obo_nom_recordtype_sc_c': 'Objet trouvé',\n",
       "  'date': '2019-10-15T16:46:12+00:00'},\n",
       " 'record_timestamp': '2023-04-06T13:00:52.831Z'}"
      ]
     },
     "execution_count": 34,
     "metadata": {},
     "output_type": "execute_result"
    }
   ],
   "source": [
    "lost_objects_list[0][]"
   ]
  }
 ],
 "metadata": {
  "kernelspec": {
   "display_name": "venv",
   "language": "python",
   "name": "python3"
  },
  "language_info": {
   "codemirror_mode": {
    "name": "ipython",
    "version": 3
   },
   "file_extension": ".py",
   "mimetype": "text/x-python",
   "name": "python",
   "nbconvert_exporter": "python",
   "pygments_lexer": "ipython3",
   "version": "3.10.9"
  },
  "orig_nbformat": 4
 },
 "nbformat": 4,
 "nbformat_minor": 2
}
