{
 "cells": [
  {
   "cell_type": "code",
   "execution_count": 1,
   "metadata": {},
   "outputs": [],
   "source": [
    "import requests\n",
    "import pandas as pd\n",
    "import sqlite3\n"
   ]
  },
  {
   "cell_type": "code",
   "execution_count": 2,
   "metadata": {},
   "outputs": [],
   "source": [
    "def get_lost_objects(gares, annees):\n",
    "    results = []\n",
    "    for gare in gares:\n",
    "        for annee in annees:\n",
    "            response = requests.get(f'https://a67b4b4d-cb00-45aa-9970-2c69b46cea8a@ressources.data.sncf.com/api/records/1.0/search/?dataset=objets-trouves-restitution&lang=fr&rows=10000&sort=date&facet=date&facet=gc_obo_gare_origine_r_name&facet=gc_obo_type_c&refine.date={annee}&refine.gc_obo_gare_origine_r_name={gare}')\n",
    "            results.append(response.json()[\"records\"])\n",
    "    return results\n",
    "\n"
   ]
  },
  {
   "cell_type": "code",
   "execution_count": 3,
   "metadata": {},
   "outputs": [],
   "source": [
    "gares = [\n",
    "    'Paris Bercy',\n",
    "    'Paris Gare du Nord',\n",
    "    'Paris Est',\n",
    "    'Paris Gare de Lyon',\n",
    "    'Paris Montparnasse',\n",
    "    'Paris Saint-Lazare',\n",
    "    'Paris Austerlitz'\n",
    "    ]\n",
    "annees = [annee for annee in range(2019,2023)]\n",
    "\n",
    "lost_objects_list = get_lost_objects(gares, annees)"
   ]
  },
  {
   "cell_type": "code",
   "execution_count": 4,
   "metadata": {},
   "outputs": [],
   "source": [
    "# connexion = sqlite3.connect('bdd.db')\n",
    "# query = \"SELECT id,nom FROM gare\"\n",
    "# df_gares = pd.read_sql(query, connexion)\n",
    "\n",
    "def get_gare_id_by_name(name : str):\n",
    "\n",
    "    referencies = {\n",
    "        \"lyon\" : 1,\n",
    "        \"montparnasse\" : 2,\n",
    "        \"nord\" : 3,\n",
    "        \"lazare\" : 4,\n",
    "        \"est\" : 5,\n",
    "        \"bercy\" : 6,\n",
    "        'austerlitz' : 7,\n",
    "    }\n",
    "    for ref in referencies.keys():\n",
    "        if ref in name.lower():\n",
    "            return referencies[ref]\n",
    "    return 404\n",
    "\n",
    "\n"
   ]
  },
  {
   "cell_type": "code",
   "execution_count": 5,
   "metadata": {},
   "outputs": [],
   "source": [
    "objects_liste = []\n",
    "for by_gareyear in lost_objects_list:\n",
    "    for item in by_gareyear:\n",
    "        item = item[\"fields\"]\n",
    "        objects_liste.append({\"gare_id\" : get_gare_id_by_name(item['gc_obo_gare_origine_r_name']), \"type\" : item['gc_obo_type_c'], \"date\" : item[\"date\"][:10]})"
   ]
  },
  {
   "cell_type": "code",
   "execution_count": 6,
   "metadata": {},
   "outputs": [
    {
     "data": {
      "text/plain": [
       "81632"
      ]
     },
     "execution_count": 6,
     "metadata": {},
     "output_type": "execute_result"
    }
   ],
   "source": [
    "len(objects_liste)"
   ]
  },
  {
   "cell_type": "code",
   "execution_count": 7,
   "metadata": {},
   "outputs": [
    {
     "data": {
      "text/plain": [
       "0"
      ]
     },
     "execution_count": 7,
     "metadata": {},
     "output_type": "execute_result"
    }
   ],
   "source": [
    "count = 0 ######## verfication qu'aucun nom de gare ne correspond à aucun id \n",
    "for i in objects_liste:\n",
    "    if i[\"gare_id\"]==404:\n",
    "        count+=1\n",
    "count"
   ]
  }
 ],
 "metadata": {
  "kernelspec": {
   "display_name": "venv",
   "language": "python",
   "name": "python3"
  },
  "language_info": {
   "codemirror_mode": {
    "name": "ipython",
    "version": 3
   },
   "file_extension": ".py",
   "mimetype": "text/x-python",
   "name": "python",
   "nbconvert_exporter": "python",
   "pygments_lexer": "ipython3",
   "version": "3.10.9"
  },
  "orig_nbformat": 4
 },
 "nbformat": 4,
 "nbformat_minor": 2
}
